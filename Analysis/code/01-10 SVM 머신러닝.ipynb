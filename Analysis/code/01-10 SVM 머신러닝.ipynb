{
 "cells": [
  {
   "cell_type": "code",
   "execution_count": 1,
   "metadata": {},
   "outputs": [],
   "source": [
    "import pandas as pd\n",
    "import numpy as np\n",
    "from sklearn.model_selection import train_test_split\n",
    "from sklearn.metrics import accuracy_score\n",
    "import seaborn as sns\n",
    "import matplotlib.pyplot as plt"
   ]
  },
  {
   "cell_type": "code",
   "execution_count": 2,
   "metadata": {},
   "outputs": [],
   "source": [
    "from sklearn.datasets import load_iris\n",
    "iris = load_iris()\n",
    "\n",
    "data = iris['data']\n",
    "feature_names = iris[\"feature_names\"]\n",
    "target = iris[\"target\"]\n",
    "\n",
    "df_iris = pd.DataFrame(data, columns = feature_names)\n",
    "df_iris[\"target\"] = target"
   ]
  },
  {
   "cell_type": "code",
   "execution_count": 3,
   "metadata": {},
   "outputs": [],
   "source": [
    "X = df_iris.drop(\"target\",axis = 1)\n",
    "y = df_iris[\"target\"]\n",
    "\n",
    "X_train,X_test,y_train,y_test = train_test_split(X,y, test_size = 0.25, random_state = 10, stratify = y)"
   ]
  },
  {
   "cell_type": "markdown",
   "metadata": {},
   "source": [
    "### 서포트 벡터 머신(SVM, Support Vector Machine)\n",
    "- 새로운 데이터가 어느 카테고리에 속할지 판단하는 비확률적인 이진 선형 분류 모델을 만듦\n",
    "- 경계로 표현되는 데이터들 중 가장 큰 폭을 가진 경계를 찾는 알고리즘\n",
    "- 이진 분류만 가능\n",
    "    - ovr 전략\n",
    "    - hyperparameter 옵션\n",
    "- SVC(Support Vector Classifier)"
   ]
  },
  {
   "cell_type": "code",
   "execution_count": 4,
   "metadata": {},
   "outputs": [
    {
     "name": "stdout",
     "output_type": "stream",
     "text": [
      "1.0\n",
      "              precision    recall  f1-score   support\n",
      "\n",
      "           0       1.00      1.00      1.00        12\n",
      "           1       1.00      1.00      1.00        13\n",
      "           2       1.00      1.00      1.00        13\n",
      "\n",
      "    accuracy                           1.00        38\n",
      "   macro avg       1.00      1.00      1.00        38\n",
      "weighted avg       1.00      1.00      1.00        38\n",
      "\n"
     ]
    }
   ],
   "source": [
    "from sklearn.svm import SVC\n",
    "\n",
    "# 모델 생성\n",
    "model_svc = SVC(kernel = \"linear\", C=10)\n",
    "\n",
    "# 모델 적용\n",
    "model_svc.fit(X_train,y_train)\n",
    "\n",
    "# 예측\n",
    "y_pred = model_svc.predict(X_test)\n",
    "\n",
    "# 정확도\n",
    "print((y_pred == y_test).mean())\n",
    "\n",
    "# 성능평가\n",
    "from sklearn.metrics import classification_report\n",
    "print(classification_report(y_test,y_pred))"
   ]
  },
  {
   "cell_type": "code",
   "execution_count": 7,
   "metadata": {},
   "outputs": [
    {
     "data": {
      "text/plain": [
       "array([[-0.23926426,  2.28023685,  0.75592725],\n",
       "       [-0.23873309,  2.25788457,  0.84262294],\n",
       "       [-0.2664893 ,  1.18041355,  2.24577395],\n",
       "       [-0.27962692,  1.18000795,  2.26709796],\n",
       "       [-0.27749846,  0.83443234,  2.28541916]])"
      ]
     },
     "execution_count": 7,
     "metadata": {},
     "output_type": "execute_result"
    }
   ],
   "source": [
    "# 각 클래스(target값)에 대한 확률값을 return 해주는 함수\n",
    "model_svc.decision_function(X_test)[:5]"
   ]
  },
  {
   "cell_type": "markdown",
   "metadata": {},
   "source": [
    "SVC 학습모델의 속성값\n",
    "- n_support_ : 각 클래스의 서포트의 개수\n",
    "- support_ : 각 클래스의 서포트의 인덱스 \n",
    "- supprot_vectors_ : 각 클래스의 서포트의 x값.\n",
    "- coef_ : w 벡터\n",
    "- intercept_ : w0\n",
    "- dual_coef_ : 각 원소가 ai yi로 이루어진 벡터"
   ]
  },
  {
   "cell_type": "code",
   "execution_count": 5,
   "metadata": {},
   "outputs": [
    {
     "data": {
      "text/plain": [
       "array([[ 0.00000000e+00,  4.60829074e-01, -4.60829074e-01,\n",
       "        -0.00000000e+00, -0.00000000e+00, -2.02962647e-15,\n",
       "        -0.00000000e+00, -0.00000000e+00, -0.00000000e+00,\n",
       "        -0.00000000e+00, -0.00000000e+00, -2.03660749e-01,\n",
       "        -0.00000000e+00, -0.00000000e+00, -0.00000000e+00,\n",
       "        -0.00000000e+00, -0.00000000e+00],\n",
       "       [ 1.58115697e-01,  4.55450521e-02,  0.00000000e+00,\n",
       "         5.40541626e+00,  1.00000000e+01,  0.00000000e+00,\n",
       "         1.00000000e+01,  3.25958151e+00,  1.00000000e+01,\n",
       "         1.00000000e+01, -4.39709210e-01, -0.00000000e+00,\n",
       "        -1.00000000e+01, -1.00000000e+01, -1.00000000e+01,\n",
       "        -1.00000000e+01, -8.22528857e+00]])"
      ]
     },
     "execution_count": 5,
     "metadata": {},
     "output_type": "execute_result"
    }
   ],
   "source": [
    "model_svc.dual_coef_"
   ]
  }
 ],
 "metadata": {
  "interpreter": {
   "hash": "9fc9618a2a69cbd46d02327feda3fe5ae19ec7346ee8140a97d5d1260014b6bd"
  },
  "kernelspec": {
   "display_name": "Python 3.8.10 ('venv_mlskl': venv)",
   "language": "python",
   "name": "python3"
  },
  "language_info": {
   "codemirror_mode": {
    "name": "ipython",
    "version": 3
   },
   "file_extension": ".py",
   "mimetype": "text/x-python",
   "name": "python",
   "nbconvert_exporter": "python",
   "pygments_lexer": "ipython3",
   "version": "3.8.10"
  },
  "orig_nbformat": 4
 },
 "nbformat": 4,
 "nbformat_minor": 2
}
