{
 "cells": [
  {
   "cell_type": "markdown",
   "metadata": {},
   "source": [
    "## 파이썬 라이브러리 : Numpy"
   ]
  },
  {
   "cell_type": "code",
   "execution_count": 1,
   "metadata": {},
   "outputs": [],
   "source": [
    "import numpy as np"
   ]
  },
  {
   "cell_type": "code",
   "execution_count": 2,
   "metadata": {},
   "outputs": [
    {
     "name": "stdout",
     "output_type": "stream",
     "text": [
      "1.22.1\n"
     ]
    }
   ],
   "source": [
    "print(np.__version__)"
   ]
  },
  {
   "cell_type": "markdown",
   "metadata": {},
   "source": [
    "### Numpy ndarray 사용"
   ]
  },
  {
   "cell_type": "markdown",
   "metadata": {},
   "source": [
    "#### 1. 이미지 파일 읽은 데이터의 형태 확인"
   ]
  },
  {
   "cell_type": "code",
   "execution_count": 3,
   "metadata": {},
   "outputs": [
    {
     "name": "stdout",
     "output_type": "stream",
     "text": [
      "Collecting opencv-python\n",
      "  Downloading opencv_python-4.5.5.64-cp36-abi3-win_amd64.whl (35.4 MB)\n",
      "Requirement already satisfied: numpy>=1.14.5; python_version >= \"3.7\" in c:\\users\\madda\\anaconda3\\lib\\site-packages (from opencv-python) (1.22.1)\n",
      "Installing collected packages: opencv-python\n",
      "Successfully installed opencv-python-4.5.5.64\n"
     ]
    }
   ],
   "source": [
    "#!pip install opencv-python"
   ]
  },
  {
   "cell_type": "markdown",
   "metadata": {},
   "source": [
    "opencv-python : 이미지 파일을 볼 수 있게 해주는 라이브러리"
   ]
  },
  {
   "cell_type": "code",
   "execution_count": 4,
   "metadata": {},
   "outputs": [
    {
     "name": "stdout",
     "output_type": "stream",
     "text": [
      "4.5.5\n"
     ]
    }
   ],
   "source": [
    "import cv2\n",
    "print(cv2.__version__)"
   ]
  },
  {
   "cell_type": "code",
   "execution_count": 4,
   "metadata": {},
   "outputs": [
    {
     "name": "stdout",
     "output_type": "stream",
     "text": [
      "<class 'numpy.ndarray'>\n",
      "uint8\n"
     ]
    },
    {
     "data": {
      "text/plain": [
       "-1"
      ]
     },
     "execution_count": 4,
     "metadata": {},
     "output_type": "execute_result"
    }
   ],
   "source": [
    "import cv2\n",
    "image = cv2.imread('../image\\cat.jpg') # 이미지 파일 읽기\n",
    "print(type(image))\n",
    "print(image.dtype)\n",
    "cv2.imshow(\"img\",image)  # 이미지 파일 보여주기\n",
    "cv2.waitKey()  # 특정키 입력 전까지 대기"
   ]
  },
  {
   "cell_type": "markdown",
   "metadata": {},
   "source": [
    "#### 2. 텍스트 데이터에서 numpy 사용\n",
    "- scikit-learn : 머신러닝 라이브러리"
   ]
  },
  {
   "cell_type": "code",
   "execution_count": 10,
   "metadata": {},
   "outputs": [
    {
     "name": "stdout",
     "output_type": "stream",
     "text": [
      "Requirement already satisfied: scikit_learn in c:\\users\\madda\\anaconda3\\lib\\site-packages (0.23.2)\n",
      "Requirement already satisfied: threadpoolctl>=2.0.0 in c:\\users\\madda\\anaconda3\\lib\\site-packages (from scikit_learn) (2.1.0)\n",
      "Requirement already satisfied: joblib>=0.11 in c:\\users\\madda\\anaconda3\\lib\\site-packages (from scikit_learn) (0.17.0)\n",
      "Requirement already satisfied: scipy>=0.19.1 in c:\\users\\madda\\anaconda3\\lib\\site-packages (from scikit_learn) (1.5.2)\n",
      "Requirement already satisfied: numpy>=1.13.3 in c:\\users\\madda\\anaconda3\\lib\\site-packages (from scikit_learn) (1.22.1)\n"
     ]
    }
   ],
   "source": [
    "#!pip install scikit-learn"
   ]
  },
  {
   "cell_type": "code",
   "execution_count": 19,
   "metadata": {
    "scrolled": false
   },
   "outputs": [
    {
     "name": "stdout",
     "output_type": "stream",
     "text": [
      "[5.1 3.5 1.4 0.2]\n",
      "<class 'numpy.ndarray'>\n"
     ]
    }
   ],
   "source": [
    "# 사이킷런 라이브러리 안에 데이터가 있음\n",
    "from sklearn.datasets import load_iris\n",
    "\n",
    "iris = load_iris()\n",
    "print(iris.data[0,:])\n",
    "print(type(iris.data[0,:]))"
   ]
  },
  {
   "cell_type": "markdown",
   "metadata": {},
   "source": [
    "#### 용어\n",
    "1. **스칼라(scalar)** : 숫자 하나만으로 이루어진 데이터, 보통 알파벳 소문자 표기\n",
    "2. **벡터(Vector)** : 여러 숫자가 특징인 순서대로 모여 있는 데이터 ex) 데이터, 레코드, 행(row), 열(column)\n",
    "3. **행렬(array)** : n차원을 가지는 데이터\n",
    "* 3차원 이상의 데이터 : 텐서(tensor)라고 불림\n",
    "- 스칼라 < 벡터 < 행렬"
   ]
  },
  {
   "cell_type": "markdown",
   "metadata": {},
   "source": [
    "#### Numpy로 벡터 표현"
   ]
  },
  {
   "cell_type": "code",
   "execution_count": 26,
   "metadata": {},
   "outputs": [
    {
     "name": "stdout",
     "output_type": "stream",
     "text": [
      "[1 2 3 3 4 5]\n",
      "[[1]\n",
      " [2]\n",
      " [3]\n",
      " [4]\n",
      " [5]]\n",
      "[[5 1]\n",
      " [3 1]\n",
      " [2 4]]\n"
     ]
    }
   ],
   "source": [
    "# Numpy로 벡터 표현\n",
    "import numpy as np\n",
    "\n",
    "# 1차원\n",
    "x1 = np.array([1,2,3,3,4,5])\n",
    "print(x1)\n",
    "\n",
    "x1_1 = np.array([[1],[2],[3],[4],[5]])\n",
    "print(x1_1)\n",
    "\n",
    "# 2차원\n",
    "x2 = np.array([[5,1],[3,1],[2,4]])\n",
    "print(x2)"
   ]
  },
  {
   "cell_type": "markdown",
   "metadata": {},
   "source": [
    "### 1. Numpy 배열"
   ]
  },
  {
   "cell_type": "markdown",
   "metadata": {},
   "source": [
    "#### 1.1 1차원 배열 만들기"
   ]
  },
  {
   "cell_type": "code",
   "execution_count": 47,
   "metadata": {},
   "outputs": [
    {
     "name": "stdout",
     "output_type": "stream",
     "text": [
      "[[ 0  1  2  3  4  5  6  7  8  9 10]]\n",
      "<class 'numpy.ndarray'>\n",
      "int32\n",
      "1\n"
     ]
    }
   ],
   "source": [
    "arr = np.array([range(0,11)]) # np.arrange(1,11)와 동일\n",
    "print(arr)\n",
    "print(type(arr))\n",
    "print(arr.dtype)\n",
    "print(len(arr)) # 차원을 알려준다."
   ]
  },
  {
   "cell_type": "markdown",
   "metadata": {},
   "source": [
    "#### 1.2 2차원 배열 만들기"
   ]
  },
  {
   "cell_type": "code",
   "execution_count": 48,
   "metadata": {},
   "outputs": [
    {
     "name": "stdout",
     "output_type": "stream",
     "text": [
      "[[10 20 30 40]\n",
      " [50 60 70 80]]\n",
      "[[10 20 30 40]\n",
      " [50 60 70 80]]\n",
      "[10 20 30 40]\n",
      "2\n"
     ]
    }
   ],
   "source": [
    "arr = np.array([[1,2,3,4],[5,6,7,8]])\n",
    "print(arr*10)\n",
    "\n",
    "arr2 = np.array([[10,20,30,40],[50,60,70,80]])\n",
    "print(arr2)\n",
    "\n",
    "arr3 = np.arange(10,41,10)\n",
    "print(arr3)\n",
    "print(len(arr))"
   ]
  },
  {
   "cell_type": "markdown",
   "metadata": {},
   "source": [
    "#### 1.3 3차원 배열 만들기"
   ]
  },
  {
   "cell_type": "code",
   "execution_count": 49,
   "metadata": {},
   "outputs": [
    {
     "name": "stdout",
     "output_type": "stream",
     "text": [
      "[[[10 10]\n",
      "  [20 20]\n",
      "  [30 30]]\n",
      "\n",
      " [[40 40]\n",
      "  [50 50]\n",
      "  [60 60]]\n",
      "\n",
      " [[70 70]\n",
      "  [80 80]\n",
      "  [90 90]]]\n",
      "3\n"
     ]
    }
   ],
   "source": [
    "arr = np.array([[[1,1],[2,2],[3,3]],[[4,4],[5,5],[6,6]],[[7,7],[8,8],[9,9]]])\n",
    "print(arr*10)\n",
    "print(len(arr))"
   ]
  },
  {
   "cell_type": "markdown",
   "metadata": {},
   "source": [
    "#### 1.4 배열의 차원과 크기"
   ]
  },
  {
   "cell_type": "code",
   "execution_count": 50,
   "metadata": {},
   "outputs": [
    {
     "name": "stdout",
     "output_type": "stream",
     "text": [
      "2\n",
      "(2, 4)\n",
      "\n",
      "3\n",
      "(1, 3, 3)\n"
     ]
    }
   ],
   "source": [
    "arr1 = np.array([[10,20,30,40],[50,60,70,80]])\n",
    "arr2 = np.array([[[10,20,30],[40,50,60],[70,80,90]]])\n",
    "\n",
    "print(arr1.ndim) # 몇 차원인지 알려준다.\n",
    "print(arr1.shape) # n by n 차원을 알려준다.\n",
    "print()\n",
    "print(arr2.ndim)\n",
    "print(arr2.shape)"
   ]
  },
  {
   "cell_type": "code",
   "execution_count": 51,
   "metadata": {},
   "outputs": [
    {
     "name": "stdout",
     "output_type": "stream",
     "text": [
      "3\n",
      "(425, 640, 3)\n"
     ]
    }
   ],
   "source": [
    "import cv2\n",
    "\n",
    "# 이미지 파일 배열 크기, 차원\n",
    "image = cv2.imread('../image\\cat.jpg')\n",
    "print(image.ndim)\n",
    "print(image.shape) # 값 해석 (행,열,rgb) 의미"
   ]
  },
  {
   "cell_type": "code",
   "execution_count": 53,
   "metadata": {},
   "outputs": [
    {
     "name": "stdout",
     "output_type": "stream",
     "text": [
      "2\n",
      "(150, 4)\n"
     ]
    }
   ],
   "source": [
    "from sklearn.datasets import load_iris\n",
    "iris = load_iris()\n",
    "\n",
    "print(iris.data.ndim)\n",
    "print(iris.data.shape)"
   ]
  },
  {
   "cell_type": "markdown",
   "metadata": {},
   "source": [
    "#### 1.5 배열의 크기 변경\n",
    "- array.flattern()\n",
    "- array.ravel()\n",
    "- array.reshape(-1)"
   ]
  },
  {
   "cell_type": "code",
   "execution_count": 75,
   "metadata": {},
   "outputs": [
    {
     "name": "stdout",
     "output_type": "stream",
     "text": [
      "[ 1  2  3  4  5  6  7  8  9 10 11 12]\n",
      "[[ 1  2  3  4]\n",
      " [ 5  6  7  8]\n",
      " [ 9 10 11 12]]\n",
      "[[ 1  2  3]\n",
      " [ 4  5  6]\n",
      " [ 7  8  9]\n",
      " [10 11 12]]\n",
      "[[[ 1  2  3]\n",
      "  [ 4  5  6]]\n",
      "\n",
      " [[ 7  8  9]\n",
      "  [10 11 12]]]\n",
      "--------------------------------------------------------------------------------\n",
      "[ 1  2  3  4  5  6  7  8  9 10 11 12]\n",
      "[ 1  2  3  4  5  6  7  8  9 10 11 12]\n",
      "[ 1  2  3  4  5  6  7  8  9 10 11 12]\n"
     ]
    }
   ],
   "source": [
    "arr = np.arange(1,13)\n",
    "print(arr)\n",
    "\n",
    "print(arr.reshape(3,4))\n",
    "\n",
    "print(arr.reshape(-1,3)) # -1 입력시 자동으로 지정\n",
    "\n",
    "print(arr.reshape(-1,2,3)) # -1은 나머지 1개만 지정 안해줄 때 자동으로 지정\n",
    "print(\"-\"*80)\n",
    "\n",
    "# 1차원 배열로 변경\n",
    "arr2 = arr.reshape(-1,2,3) \n",
    "arr3 = arr2.flatten()\n",
    "print(arr2.flatten()) # 원본 유지\n",
    "arr4 = arr2.reshape(-1)\n",
    "print(arr2.reshape(-1)) # 원본 유지, 원본 변경시 같이 변경\n",
    "arr5 = arr2.ravel()\n",
    "print(arr2.ravel()) # 원본 유지, 원본 변경시 같이 변경"
   ]
  },
  {
   "cell_type": "markdown",
   "metadata": {},
   "source": [
    "##### Quiz\n",
    "- 이미지(흑백: 2차원)를 1차원 벡터로 변경"
   ]
  },
  {
   "cell_type": "code",
   "execution_count": 85,
   "metadata": {},
   "outputs": [
    {
     "data": {
      "image/png": "[encoded data removed]",
      "text/plain": [
       "<Figure size 576x144 with 8 Axes>"
      ]
     },
     "metadata": {
      "needs_background": "light"
     },
     "output_type": "display_data"
    }
   ],
   "source": [
    "## 2차원 이미지 불러오기\n",
    "\n",
    "from sklearn.datasets import load_digits\n",
    "import matplotlib.pyplot as plt\n",
    "\n",
    "digits = load_digits()\n",
    "\n",
    "# 이미지 샘플데이터를 리스트에 저장\n",
    "samples = [0,10,20,30,1,11,21,31] # 선택된 이미지 번호\n",
    "d = [] # 이미지 저장 리스트\n",
    "for i in range(8):\n",
    "    d.append(digits.images[samples[i]])\n",
    "\n",
    "# 8개 이미지를 하나의 그래프에 나타내기\n",
    "plt.figure(figsize = (8,2)) # 그래프 크기 : inch\n",
    "for i in range(8):\n",
    "    plt.subplot(1,8,i+1)\n",
    "    plt.imshow(d[i],interpolation = 'nearest', cmap = plt.cm.bone_r)\n",
    "    plt.title(f'image:{i+1}') # 각 그래프의 제목\n",
    "plt.suptitle(\"Number : 0 & 1 image\") # 그래프들의 제목\n",
    "plt.tight_layout()\n",
    "plt.show()"
   ]
  },
  {
   "cell_type": "code",
   "execution_count": 98,
   "metadata": {},
   "outputs": [
    {
     "data": {
      "image/png": "[encoded data removed]",
      "text/plain": [
       "<Figure size 576x144 with 8 Axes>"
      ]
     },
     "metadata": {
      "needs_background": "light"
     },
     "output_type": "display_data"
    }
   ],
   "source": [
    "## 1차원 벡터로 변형\n",
    "v = []\n",
    "for i in range(8) :\n",
    "    v.append(d[i].reshape(-1,1)) # 벡터화\n",
    "\n",
    "# 8개 이미지를 하나의 그래프에 나타내기\n",
    "plt.figure(figsize = (8,2)) # 그래프 크기 : inch\n",
    "for i in range(8):\n",
    "    plt.subplot(1,8,i+1)\n",
    "    plt.imshow(v[i],aspect = 0.2,interpolation = 'nearest', cmap = plt.cm.bone_r)\n",
    "    plt.title(f'image:{i+1}') # 각 그래프의 제목\n",
    "plt.suptitle(\"Vector : 0 & 1 image\",y =1.05) # 그래프들의 제목, y 크기\n",
    "plt.tight_layout(w_pad=7)\n",
    "plt.show()"
   ]
  },
  {
   "cell_type": "markdown",
   "metadata": {},
   "source": [
    "#### 1.6 Numpy 데이터 타입\n",
    "- 1가지의 데이터 타입만을 가질 수 있다."
   ]
  },
  {
   "cell_type": "code",
   "execution_count": 100,
   "metadata": {},
   "outputs": [
    {
     "name": "stdout",
     "output_type": "stream",
     "text": [
      "[ 0.   1.   2.   3.4  4.   5.   6.  10.1]\n",
      "float64\n"
     ]
    }
   ],
   "source": [
    "arr = np.array([0,1,2,3.4,4,5,6,10.1])\n",
    "print(arr)\n",
    "print(arr.dtype)"
   ]
  },
  {
   "cell_type": "code",
   "execution_count": 101,
   "metadata": {},
   "outputs": [
    {
     "name": "stdout",
     "output_type": "stream",
     "text": [
      "['0' '1' '2' '3.4' '4' '5' '6' '10.1']\n",
      "<U32\n"
     ]
    }
   ],
   "source": [
    "arr = np.array([0,\"1\",2,3.4,4,5,6,10.1])\n",
    "print(arr)\n",
    "print(arr.dtype)"
   ]
  },
  {
   "cell_type": "code",
   "execution_count": 104,
   "metadata": {},
   "outputs": [
    {
     "name": "stdout",
     "output_type": "stream",
     "text": [
      "[ 0  1  2  3  4  5  6 10]\n",
      "int64\n",
      "[ 0  1  2  3  4  5  6 10]\n",
      "int64\n"
     ]
    }
   ],
   "source": [
    "# 데이터 타입 지정해주기\n",
    "arr = np.array([0,\"1\",2,3.4,4,5,6,10.1], dtype = \"int64\") # str > int형으로\n",
    "print(arr)\n",
    "print(arr.dtype)\n",
    "\n",
    "arr = np.array([0,1,2,3.4,4,5,6,10.1], dtype = \"int64\") # 실수 > int형으로\n",
    "print(arr)\n",
    "print(arr.dtype)"
   ]
  },
  {
   "cell_type": "code",
   "execution_count": 103,
   "metadata": {},
   "outputs": [
    {
     "ename": "ValueError",
     "evalue": "invalid literal for int() with base 10: 'a'",
     "output_type": "error",
     "traceback": [
      "\u001b[1;31m---------------------------------------------------------------------------\u001b[0m",
      "\u001b[1;31mValueError\u001b[0m                                Traceback (most recent call last)",
      "Input \u001b[1;32mIn [103]\u001b[0m, in \u001b[0;36m<cell line: 2>\u001b[1;34m()\u001b[0m\n\u001b[0;32m      1\u001b[0m \u001b[38;5;66;03m# 오류 뜨는 경우\u001b[39;00m\n\u001b[1;32m----> 2\u001b[0m arr \u001b[38;5;241m=\u001b[39m \u001b[43mnp\u001b[49m\u001b[38;5;241;43m.\u001b[39;49m\u001b[43marray\u001b[49m\u001b[43m(\u001b[49m\u001b[43m[\u001b[49m\u001b[38;5;241;43m0\u001b[39;49m\u001b[43m,\u001b[49m\u001b[38;5;124;43m\"\u001b[39;49m\u001b[38;5;124;43ma\u001b[39;49m\u001b[38;5;124;43m\"\u001b[39;49m\u001b[43m,\u001b[49m\u001b[38;5;241;43m2\u001b[39;49m\u001b[43m,\u001b[49m\u001b[38;5;241;43m3.4\u001b[39;49m\u001b[43m,\u001b[49m\u001b[38;5;241;43m4\u001b[39;49m\u001b[43m,\u001b[49m\u001b[38;5;241;43m5\u001b[39;49m\u001b[43m,\u001b[49m\u001b[38;5;241;43m6\u001b[39;49m\u001b[43m,\u001b[49m\u001b[38;5;241;43m10.1\u001b[39;49m\u001b[43m]\u001b[49m\u001b[43m,\u001b[49m\u001b[43m \u001b[49m\u001b[43mdtype\u001b[49m\u001b[43m \u001b[49m\u001b[38;5;241;43m=\u001b[39;49m\u001b[43m \u001b[49m\u001b[38;5;124;43m\"\u001b[39;49m\u001b[38;5;124;43mint64\u001b[39;49m\u001b[38;5;124;43m\"\u001b[39;49m\u001b[43m)\u001b[49m\n\u001b[0;32m      3\u001b[0m \u001b[38;5;28mprint\u001b[39m(arr)\n\u001b[0;32m      4\u001b[0m \u001b[38;5;28mprint\u001b[39m(arr\u001b[38;5;241m.\u001b[39mdtype)\n",
      "\u001b[1;31mValueError\u001b[0m: invalid literal for int() with base 10: 'a'"
     ]
    }
   ],
   "source": [
    "# 오류 뜨는 경우\n",
    "## 문자가 숫자인 경우만 가능\n",
    "arr = np.array([0,\"a\",2,3.4,4,5,6,10.1], dtype = \"int64\")\n",
    "print(arr)\n",
    "print(arr.dtype)"
   ]
  },
  {
   "cell_type": "markdown",
   "metadata": {},
   "source": [
    "#### 숫자형 데이터가 취할 수 있는 범위 확인"
   ]
  },
  {
   "cell_type": "code",
   "execution_count": 105,
   "metadata": {},
   "outputs": [
    {
     "data": {
      "text/plain": [
       "iinfo(min=-9223372036854775808, max=9223372036854775807, dtype=int64)"
      ]
     },
     "execution_count": 105,
     "metadata": {},
     "output_type": "execute_result"
    }
   ],
   "source": [
    "np.iinfo('int64')"
   ]
  },
  {
   "cell_type": "code",
   "execution_count": 106,
   "metadata": {},
   "outputs": [
    {
     "data": {
      "text/plain": [
       "finfo(resolution=1e-15, min=-1.7976931348623157e+308, max=1.7976931348623157e+308, dtype=float64)"
      ]
     },
     "execution_count": 106,
     "metadata": {},
     "output_type": "execute_result"
    }
   ],
   "source": [
    "np.finfo('float64')"
   ]
  },
  {
   "cell_type": "markdown",
   "metadata": {},
   "source": [
    "#### Numpy 데이터 형 변환 : 이미 만들어진 데이터를 변환"
   ]
  },
  {
   "cell_type": "code",
   "execution_count": 109,
   "metadata": {},
   "outputs": [
    {
     "name": "stdout",
     "output_type": "stream",
     "text": [
      "float64\n",
      "int64\n"
     ]
    }
   ],
   "source": [
    "arr = np.array([0,1,2,3,4.2,5])\n",
    "print(arr.dtype)\n",
    "\n",
    "arr2 = arr.astype(np.int64)\n",
    "print(arr2.dtype)"
   ]
  },
  {
   "cell_type": "markdown",
   "metadata": {},
   "source": [
    "##### np.round 사용시 주의사항\n",
    "- 반올림할 수가 짝수일 시 : 올림\n",
    "- 반올림할 수가 홀수일 시 : 내림"
   ]
  },
  {
   "cell_type": "markdown",
   "metadata": {},
   "source": [
    "### 2. 배열의 생성과 변형"
   ]
  },
  {
   "cell_type": "code",
   "execution_count": null,
   "metadata": {},
   "outputs": [],
   "source": []
  }
 ],
 "metadata": {
  "kernelspec": {
   "display_name": "Python 3 (ipykernel)",
   "language": "python",
   "name": "python3"
  },
  "language_info": {
   "codemirror_mode": {
    "name": "ipython",
    "version": 3
   },
   "file_extension": ".py",
   "mimetype": "text/x-python",
   "name": "python",
   "nbconvert_exporter": "python",
   "pygments_lexer": "ipython3",
   "version": "3.8.5"
  }
 },
 "nbformat": 4,
 "nbformat_minor": 4
}
