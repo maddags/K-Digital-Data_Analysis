{
 "cells": [
  {
   "cell_type": "markdown",
   "metadata": {},
   "source": [
    "### 1.3 경우의 수"
   ]
  },
  {
   "cell_type": "markdown",
   "metadata": {},
   "source": [
    "##### Quiz \n",
    "- 2개의 주사위의 합이 소수인 경우 구하기"
   ]
  },
  {
   "cell_type": "code",
   "execution_count": 2,
   "metadata": {},
   "outputs": [
    {
     "name": "stdout",
     "output_type": "stream",
     "text": [
      "[(1, 1), (1, 2), (1, 4), (1, 6), (2, 1), (2, 3), (2, 5), (3, 2), (3, 4), (4, 1), (4, 3), (5, 2), (5, 6), (6, 1), (6, 5)]\n"
     ]
    }
   ],
   "source": [
    "import sympy\n",
    "\n",
    "dice1 = [1,2,3,4,5,6]\n",
    "dice2 = [1,2,3,4,5,6]\n",
    "\n",
    "case_list = []\n",
    "for i in range(len(dice1)) :\n",
    "    for j in range(len(dice2)):\n",
    "        number = dice1[i] + dice2[j]\n",
    "        if sympy.isprime(number) :\n",
    "            case_list.append((dice1[i],dice2[j]))\n",
    "        \n",
    "print(case_list)        "
   ]
  },
  {
   "cell_type": "markdown",
   "metadata": {},
   "source": [
    "##### 윗 코드 수정"
   ]
  },
  {
   "cell_type": "code",
   "execution_count": 8,
   "metadata": {},
   "outputs": [
    {
     "name": "stdout",
     "output_type": "stream",
     "text": [
      "경우의 수 : 15\n",
      "사건 : [(1, 1), (1, 2), (1, 4), (1, 6), (2, 1), (2, 3), (2, 5), (3, 2), (3, 4), (4, 1), (4, 3), (5, 2), (5, 6), (6, 1), (6, 5)]\n"
     ]
    }
   ],
   "source": [
    "import sympy\n",
    "\n",
    "dice1 = list(range(1,7))\n",
    "dice2 = list(range(1,7))\n",
    "\n",
    "case_list = []\n",
    "for i in dice1 :\n",
    "    for j in dice2:\n",
    "        if sympy.isprime(i+j) :\n",
    "            case_list.append((i,j))\n",
    "        \n",
    "print(f'경우의 수 : {len(case_list)}\\n사건 : {case_list}')"
   ]
  },
  {
   "cell_type": "markdown",
   "metadata": {},
   "source": [
    "##### 코드 최적화"
   ]
  },
  {
   "cell_type": "code",
   "execution_count": 9,
   "metadata": {},
   "outputs": [
    {
     "name": "stdout",
     "output_type": "stream",
     "text": [
      "경우의 수 : 15\n",
      "사건 : [(1, 1), (1, 2), (1, 4), (1, 6), (2, 1), (2, 3), (2, 5), (3, 2), (3, 4), (4, 1), (4, 3), (5, 2), (5, 6), (6, 1), (6, 5)]\n"
     ]
    }
   ],
   "source": [
    "dice1 = list(range(1,7))\n",
    "dice2 = list(range(1,7))\n",
    "\n",
    "d = [(x,y) for x in dice1 for y in dice2 if sympy.isprime(x+y)]\n",
    "print(f'경우의 수 : {len(d)}\\n사건 : {d}')"
   ]
  },
  {
   "cell_type": "markdown",
   "metadata": {},
   "source": [
    "#### 곱집합"
   ]
  },
  {
   "cell_type": "code",
   "execution_count": 10,
   "metadata": {},
   "outputs": [
    {
     "name": "stdout",
     "output_type": "stream",
     "text": [
      "경우의 수 : 36\n",
      "사건 : [(1, 1), (1, 2), (1, 3), (1, 4), (1, 5), (1, 6), (2, 1), (2, 2), (2, 3), (2, 4), (2, 5), (2, 6), (3, 1), (3, 2), (3, 3), (3, 4), (3, 5), (3, 6), (4, 1), (4, 2), (4, 3), (4, 4), (4, 5), (4, 6), (5, 1), (5, 2), (5, 3), (5, 4), (5, 5), (5, 6), (6, 1), (6, 2), (6, 3), (6, 4), (6, 5), (6, 6)]\n"
     ]
    }
   ],
   "source": [
    "# 데카르트 곱\n",
    "dice1 = list(range(1,7))\n",
    "dice2 = list(range(1,7))\n",
    "\n",
    "d = [(x,y) for x in dice1 for y in dice2]\n",
    "print(f'경우의 수 : {len(d)}\\n사건 : {d}')"
   ]
  },
  {
   "cell_type": "markdown",
   "metadata": {},
   "source": [
    "##### Quiz\n",
    "- 일직선 상에 있지 않은 5개의 점을 잇는 선의 개수 구하기"
   ]
  },
  {
   "cell_type": "code",
   "execution_count": 71,
   "metadata": {},
   "outputs": [
    {
     "name": "stdout",
     "output_type": "stream",
     "text": [
      "['AB', 'AC', 'AD', 'AE', 'BC', 'BD', 'BE', 'CD', 'CE', 'DE']\n"
     ]
    }
   ],
   "source": [
    "line1 = [\"A\",\"B\",\"C\",\"D\",\"E\"]\n",
    "line2 = [\"A\",\"B\",\"C\",\"D\",\"E\"]\n",
    "\n",
    "\n",
    "case_list = []\n",
    "for x in line1:\n",
    "    for y in line2 :\n",
    "        if x != y and (y+x) not in case_list:\n",
    "            case_list.append(x+y)\n",
    "print(case_list)\n",
    "\n",
    "\n"
   ]
  },
  {
   "cell_type": "code",
   "execution_count": 62,
   "metadata": {},
   "outputs": [
    {
     "data": {
      "text/plain": [
       "[('A', 'B'),\n",
       " ('A', 'C'),\n",
       " ('A', 'D'),\n",
       " ('A', 'E'),\n",
       " ('B', 'C'),\n",
       " ('B', 'D'),\n",
       " ('B', 'E'),\n",
       " ('C', 'D'),\n",
       " ('C', 'E'),\n",
       " ('D', 'E')]"
      ]
     },
     "execution_count": 62,
     "metadata": {},
     "output_type": "execute_result"
    }
   ],
   "source": [
    "import itertools\n",
    "line = \"ABCDE\"\n",
    "\n",
    "list(itertools.combinations(line,2))"
   ]
  },
  {
   "cell_type": "markdown",
   "metadata": {},
   "source": [
    "#### 데이터 선택의 경우의 수를 나열하는 방법\n",
    "itertools\n",
    "- 반복(x) + 순서(o) : 순열(permutations())\n",
    "- 반복(x) + 순서(x) : 조합(combinations())\n",
    "- 반복(o) + 순서(o) : 중복순열(producet()) --> sampling 할때\n",
    "- 반복(o) + 순서(x) : 중복조합(combinations_with_replacement()) --> selection 할때"
   ]
  },
  {
   "cell_type": "markdown",
   "metadata": {},
   "source": [
    "##### Quiz\n",
    "- 순열 4개의 문자를 서로 다르게 나열하는 방법"
   ]
  },
  {
   "cell_type": "code",
   "execution_count": 79,
   "metadata": {},
   "outputs": [
    {
     "name": "stdout",
     "output_type": "stream",
     "text": [
      "경우의 수 : 24\n",
      "사건 : [('A', 'B', 'C', 'D'), ('A', 'B', 'D', 'C'), ('A', 'C', 'B', 'D'), ('A', 'C', 'D', 'B'), ('A', 'D', 'B', 'C'), ('A', 'D', 'C', 'B'), ('B', 'A', 'C', 'D'), ('B', 'A', 'D', 'C'), ('B', 'C', 'A', 'D'), ('B', 'C', 'D', 'A'), ('B', 'D', 'A', 'C'), ('B', 'D', 'C', 'A'), ('C', 'A', 'B', 'D'), ('C', 'A', 'D', 'B'), ('C', 'B', 'A', 'D'), ('C', 'B', 'D', 'A'), ('C', 'D', 'A', 'B'), ('C', 'D', 'B', 'A'), ('D', 'A', 'B', 'C'), ('D', 'A', 'C', 'B'), ('D', 'B', 'A', 'C'), ('D', 'B', 'C', 'A'), ('D', 'C', 'A', 'B'), ('D', 'C', 'B', 'A')]\n"
     ]
    }
   ],
   "source": [
    "import itertools\n",
    "S = (\"A\",\"B\",\"C\",\"D\")\n",
    "\n",
    "case_list = list(itertools.permutations(S,4))\n",
    "print(f'경우의 수 : {len(case_list)}\\n사건 : {case_list}')"
   ]
  },
  {
   "cell_type": "markdown",
   "metadata": {},
   "source": []
  }
 ],
 "metadata": {
  "kernelspec": {
   "display_name": "Python 3 (ipykernel)",
   "language": "python",
   "name": "python3"
  },
  "language_info": {
   "codemirror_mode": {
    "name": "ipython",
    "version": 3
   },
   "file_extension": ".py",
   "mimetype": "text/x-python",
   "name": "python",
   "nbconvert_exporter": "python",
   "pygments_lexer": "ipython3",
   "version": "3.8.5"
  }
 },
 "nbformat": 4,
 "nbformat_minor": 4
}
